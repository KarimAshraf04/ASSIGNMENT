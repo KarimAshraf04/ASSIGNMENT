{
  "nbformat": 4,
  "nbformat_minor": 0,
  "metadata": {
    "colab": {
      "provenance": [],
      "authorship_tag": "ABX9TyOsnyXOEU1ttoVRO1jFo+s7",
      "include_colab_link": true
    },
    "kernelspec": {
      "name": "python3",
      "display_name": "Python 3"
    },
    "language_info": {
      "name": "python"
    }
  },
  "cells": [
    {
      "cell_type": "markdown",
      "metadata": {
        "id": "view-in-github",
        "colab_type": "text"
      },
      "source": [
        "<a href=\"https://colab.research.google.com/github/KarimAshraf04/ASSIGNMENT/blob/main/assignment_1.ipynb\" target=\"_parent\"><img src=\"https://colab.research.google.com/assets/colab-badge.svg\" alt=\"Open In Colab\"/></a>"
      ]
    },
    {
      "cell_type": "code",
      "execution_count": null,
      "metadata": {
        "colab": {
          "base_uri": "https://localhost:8080/"
        },
        "id": "mZQe2WCBnNEX",
        "outputId": "5271bb93-ad2b-4854-87eb-a3d5d4eac635"
      },
      "outputs": [
        {
          "output_type": "stream",
          "name": "stdout",
          "text": [
            "6\n"
          ]
        }
      ],
      "source": [
        "from collections import deque\n",
        "\n",
        "def shortestPath(grid, k):\n",
        "    m, n = len(grid), len(grid[0])\n",
        "    directions = [(0, 1), (1, 0), (0, -1), (-1, 0)]\n",
        "\n",
        "    queue = deque([(0, 0, k, 0)])\n",
        "    visited = set([(0, 0, k)])\n",
        "\n",
        "    while queue:\n",
        "        r, c, remaining_k, steps = queue.popleft()\n",
        "\n",
        "        if r == m - 1 and c == n - 1:\n",
        "            return steps\n",
        "\n",
        "        for dr, dc in directions:\n",
        "            nr, nc = r + dr, c + dc\n",
        "\n",
        "            if 0 <= nr < m and 0 <= nc < n:\n",
        "                new_k = remaining_k - grid[nr][nc]\n",
        "\n",
        "                if new_k >= 0 and (nr, nc, new_k) not in visited:\n",
        "                    visited.add((nr, nc, new_k))\n",
        "                    queue.append((nr, nc, new_k, steps + 1))\n",
        "\n",
        "    return -1\n",
        "\n",
        "grid = [\n",
        "    [0, 0, 0],\n",
        "    [1, 1, 0],\n",
        "    [0, 0, 0],\n",
        "    [0, 1, 1],\n",
        "    [0, 0, 0]\n",
        "]\n",
        "k = 1\n",
        "print(shortestPath(grid, k))\n",
        "\n"
      ]
    },
    {
      "cell_type": "code",
      "source": [
        "from collections import deque\n",
        "\n",
        "def slidingPuzzle(board):\n",
        "    target = \"123450\"\n",
        "    start = \"\".join(str(num) for row in board for num in row)\n",
        "    moves = {0: [1, 3], 1: [0, 2, 4], 2: [1, 5], 3: [0, 4], 4: [1, 3, 5], 5: [2, 4]}\n",
        "    queue = deque([(start, start.index(\"0\"), 0)])\n",
        "    visited = {start}\n",
        "\n",
        "    while queue:\n",
        "        state, zero_pos, steps = queue.popleft()\n",
        "        if state == target:\n",
        "            return steps\n",
        "        for move in moves[zero_pos]:\n",
        "            new_state = list(state)\n",
        "            new_state[zero_pos], new_state[move] = new_state[move], new_state[zero_pos]\n",
        "            new_state = \"\".join(new_state)\n",
        "            if new_state not in visited:\n",
        "                visited.add(new_state)\n",
        "                queue.append((new_state, move, steps + 1))\n",
        "    return -1\n",
        "\n",
        "board = [[1, 2, 3], [4, 0, 5]]\n",
        "print(slidingPuzzle(board))"
      ],
      "metadata": {
        "colab": {
          "base_uri": "https://localhost:8080/"
        },
        "id": "YZnEPps0qDcS",
        "outputId": "87c5a9fd-49b1-42ec-e1cf-3326f7e6aa6b"
      },
      "execution_count": null,
      "outputs": [
        {
          "output_type": "stream",
          "name": "stdout",
          "text": [
            "1\n"
          ]
        }
      ]
    },
    {
      "cell_type": "code",
      "source": [
        "from collections import deque\n",
        "def slidingPuzzle(board):\n",
        "    target = \"123450\"\n",
        "    start = \"\".join(str(num) for row in board for num in row)\n",
        "    moves = {0: [1, 3], 1: [0, 2, 4], 2: [1, 5], 3: [0, 4], 4: [1, 3, 5], 5: [2, 4]}\n",
        "    queue = deque([(start, start.index(\"0\"), 0)])\n",
        "    visited = {start}\n",
        "    while queue:\n",
        "        state, zero_pos, steps = queue.popleft()\n",
        "        if state == target:\n",
        "            return steps\n",
        "        for move in moves[zero_pos]:\n",
        "            new_state = list(state)\n",
        "            new_state[zero_pos], new_state[move] = new_state[move], new_state[zero_pos]\n",
        "            new_state = \"\".join(new_state)\n",
        "            if new_state not in visited:\n",
        "                visited.add(new_state)\n",
        "                queue.append((new_state, move, steps + 1))\n",
        "    return -1\n",
        "def knightShortestPath(N, x1, y1, x2, y2):\n",
        "    directions = [(-2, -1), (-2, 1), (-1, -2), (-1, 2), (1, -2), (1, 2), (2, -1), (2, 1)]\n",
        "    queue = deque([(x1, y1, 0)])\n",
        "    visited = set([(x1, y1)])\n",
        "    while queue:\n",
        "        x, y, moves = queue.popleft()\n",
        "        if (x, y) == (x2, y2):\n",
        "            return moves\n",
        "        for dx, dy in directions:\n",
        "            nx, ny = x + dx, y + dy\n",
        "            if 0 <= nx < N and 0 <= ny < N and (nx, ny) not in visited:\n",
        "                visited.add((nx, ny))\n",
        "                queue.append((nx, ny, moves + 1))\n",
        "    return -1\n",
        "board = [[1, 2, 3], [4, 0, 5]]\n",
        "print(slidingPuzzle(board))\n",
        "N, x1, y1, x2, y2 = 8, 0, 0, 7, 7\n",
        "print(knightShortestPath(N, x1, y1, x2, y2))\n"
      ],
      "metadata": {
        "colab": {
          "base_uri": "https://localhost:8080/"
        },
        "id": "VdTIicTxrkGF",
        "outputId": "bc66857c-f814-4c2e-b3a0-fd7ef71efa55"
      },
      "execution_count": null,
      "outputs": [
        {
          "output_type": "stream",
          "name": "stdout",
          "text": [
            "1\n",
            "6\n"
          ]
        }
      ]
    },
    {
      "cell_type": "code",
      "source": [
        "from collections import deque\n",
        "from collections import defaultdict\n",
        "\n",
        "def slidingPuzzle(board):\n",
        "    target = \"123450\"\n",
        "    start = \"\".join(str(num) for row in board for num in row)\n",
        "    moves = {0: [1, 3], 1: [0, 2, 4], 2: [1, 5], 3: [0, 4], 4: [1, 3, 5], 5: [2, 4]}\n",
        "    queue = deque([(start, start.index(\"0\"), 0)])\n",
        "    visited = {start}\n",
        "\n",
        "    while queue:\n",
        "        state, zero_pos, steps = queue.popleft()\n",
        "        if state == target:\n",
        "            return steps\n",
        "        for move in moves[zero_pos]:\n",
        "            new_state = list(state)\n",
        "            new_state[zero_pos], new_state[move] = new_state[move], new_state[zero_pos]\n",
        "            new_state = \"\".join(new_state)\n",
        "            if new_state not in visited:\n",
        "                visited.add(new_state)\n",
        "                queue.append((new_state, move, steps + 1))\n",
        "    return -1\n",
        "\n",
        "def knightShortestPath(N, x1, y1, x2, y2):\n",
        "    directions = [(-2, -1), (-2, 1), (-1, -2), (-1, 2), (1, -2), (1, 2), (2, -1), (2, 1)]\n",
        "    queue = deque([(x1, y1, 0)])\n",
        "    visited = set([(x1, y1)])\n",
        "\n",
        "    while queue:\n",
        "        x, y, moves = queue.popleft()\n",
        "        if (x, y) == (x2, y2):\n",
        "            return moves\n",
        "        for dx, dy in directions:\n",
        "            nx, ny = x + dx, y + dy\n",
        "            if 0 <= nx < N and 0 <= ny < N and (nx, ny) not in visited:\n",
        "                visited.add((nx, ny))\n",
        "                queue.append((nx, ny, moves + 1))\n",
        "    return -1\n",
        "\n",
        "def wordLadderII(beginWord, endWord, wordList):\n",
        "    wordSet = set(wordList)\n",
        "    if endWord not in wordSet:\n",
        "        return []\n",
        "\n",
        "    layer = {beginWord: [[beginWord]]}\n",
        "    while layer:\n",
        "        new_layer = defaultdict(list)\n",
        "        for word in layer:\n",
        "            if word == endWord:\n",
        "                return layer[word]\n",
        "            for i in range(len(word)):\n",
        "                for c in 'abcdefghijklmnopqrstuvwxyz':\n",
        "                    new_word = word[:i] + c + word[i+1:]\n",
        "                    if new_word in wordSet:\n",
        "                        new_layer[new_word] += [path + [new_word] for path in layer[word]]\n",
        "        wordSet -= set(new_layer.keys())\n",
        "        layer = new_layer\n",
        "    return []\n",
        "\n",
        "board = [[1, 2, 3], [4, 0, 5]]\n",
        "print(slidingPuzzle(board))\n",
        "\n",
        "N, x1, y1, x2, y2 = 8, 0, 0, 7, 7\n",
        "print(knightShortestPath(N, x1, y1, x2, y2))\n",
        "\n",
        "beginWord = \"hit\"\n",
        "endWord = \"cog\"\n",
        "wordList = [\"hot\", \"dot\", \"dog\", \"lot\", \"log\", \"cog\"]\n",
        "print(wordLadderII(beginWord, endWord, wordList))\n"
      ],
      "metadata": {
        "colab": {
          "base_uri": "https://localhost:8080/"
        },
        "id": "UYYPy81nsFXI",
        "outputId": "70bead6b-5072-4fe4-be17-0144c94e263e"
      },
      "execution_count": null,
      "outputs": [
        {
          "output_type": "stream",
          "name": "stdout",
          "text": [
            "1\n",
            "6\n",
            "[['hit', 'hot', 'dot', 'dog', 'cog'], ['hit', 'hot', 'lot', 'log', 'cog']]\n"
          ]
        }
      ]
    },
    {
      "cell_type": "code",
      "source": [
        "class TrieNode:\n",
        "    def __init__(self):\n",
        "        self.children = {}\n",
        "        self.word = None\n",
        "\n",
        "class Trie:\n",
        "    def __init__(self):\n",
        "        self.root = TrieNode()\n",
        "\n",
        "    def insert(self, word):\n",
        "        node = self.root\n",
        "        for char in word:\n",
        "            if char not in node.children:\n",
        "                node.children[char] = TrieNode()\n",
        "            node = node.children[char]\n",
        "        node.word = word\n",
        "\n",
        "def findWords(board, words):\n",
        "    def dfs(node, x, y):\n",
        "        char = board[x][y]\n",
        "        if char not in node.children:\n",
        "            return\n",
        "\n",
        "        node = node.children[char]\n",
        "        if node.word:\n",
        "            found_words.add(node.word)\n",
        "            node.word = None\n",
        "\n",
        "        board[x][y] = \"#\"\n",
        "\n",
        "        for dx, dy in directions:\n",
        "            nx, ny = x + dx, y + dy\n",
        "            if 0 <= nx < m and 0 <= ny < n and board[nx][ny] in node.children:\n",
        "                dfs(node, nx, ny)\n",
        "\n",
        "        board[x][y] = char\n",
        "\n",
        "    trie = Trie()\n",
        "    for word in words:\n",
        "        trie.insert(word)\n",
        "\n",
        "    m, n = len(board), len(board[0])\n",
        "    found_words = set()\n",
        "    directions = [(-1, 0), (1, 0), (0, -1), (0, 1)]\n",
        "\n",
        "    for i in range(m):\n",
        "        for j in range(n):\n",
        "            dfs(trie.root, i, j)\n",
        "\n",
        "    return list(found_words)\n",
        "\n",
        "board = [\n",
        "    [\"o\", \"a\", \"b\", \"n\"],\n",
        "    [\"o\", \"t\", \"a\", \"e\"],\n",
        "    [\"a\", \"h\", \"k\", \"r\"],\n",
        "    [\"a\", \"f\", \"l\", \"v\"]\n",
        "]\n",
        "words = [\"oath\", \"oak\", \"bat\", \"ate\", \"flank\"]\n",
        "print(findWords(board, words))\n"
      ],
      "metadata": {
        "id": "bm0w7XgMJMeH",
        "colab": {
          "base_uri": "https://localhost:8080/"
        },
        "outputId": "69653a31-0fe9-443f-9569-6e439de729c8"
      },
      "execution_count": 3,
      "outputs": [
        {
          "output_type": "stream",
          "name": "stdout",
          "text": [
            "['oath', 'bat']\n"
          ]
        }
      ]
    },
    {
      "cell_type": "code",
      "source": [
        "from collections import deque\n",
        "\n",
        "def removeInvalidParentheses(s):\n",
        "    def isValid(string):\n",
        "        balance = 0\n",
        "        for char in string:\n",
        "            if char == '(':\n",
        "                balance += 1\n",
        "            elif char == ')':\n",
        "                balance -= 1\n",
        "            if balance < 0:\n",
        "                return False\n",
        "        return balance == 0\n",
        "\n",
        "    queue = deque([s])\n",
        "    visited = set([s])\n",
        "    valid_expressions = []\n",
        "    found = False\n",
        "\n",
        "    while queue:\n",
        "        current = queue.popleft()\n",
        "        if isValid(current):\n",
        "            valid_expressions.append(current)\n",
        "            found = True\n",
        "\n",
        "        if found:\n",
        "            continue\n",
        "\n",
        "        for i in range(len(current)):\n",
        "            if current[i] not in \"()\":\n",
        "                continue\n",
        "            new_str = current[:i] + current[i+1:]\n",
        "            if new_str not in visited:\n",
        "                visited.add(new_str)\n",
        "                queue.append(new_str)\n",
        "\n",
        "    return valid_expressions\n",
        "\n",
        "\n",
        "s = \"(a)())()\"\n",
        "print(removeInvalidParentheses(s))"
      ],
      "metadata": {
        "colab": {
          "base_uri": "https://localhost:8080/"
        },
        "id": "aib73_fTKOZD",
        "outputId": "3199c07a-919a-4173-8bbb-13a7203631f5"
      },
      "execution_count": null,
      "outputs": [
        {
          "output_type": "stream",
          "name": "stdout",
          "text": [
            "['(a())()', '(a)()()']\n"
          ]
        }
      ]
    },
    {
      "cell_type": "code",
      "source": [
        "\n",
        "from functools import lru_cache\n",
        "\n",
        "def longestIncreasingPath(matrix):\n",
        "    if not matrix or not matrix[0]:\n",
        "        return 0\n",
        "\n",
        "    m, n = len(matrix), len(matrix[0])\n",
        "    directions = [(0, 1), (0, -1), (1, 0), (-1, 0)]\n",
        "\n",
        "    @lru_cache(None)\n",
        "    def dfs(x, y):\n",
        "        best = 1\n",
        "        for dx, dy in directions:\n",
        "            nx, ny = x + dx, y + dy\n",
        "            if 0 <= nx < m and 0 <= ny < n and matrix[nx][ny] > matrix[x][y]:\n",
        "                best = max(best, 1 + dfs(nx, ny))\n",
        "        return best\n",
        "\n",
        "    return max(dfs(i, j) for i in range(m) for j in range(n))\n",
        "\n",
        "\n",
        "matrix = [\n",
        "    [9, 9, 4],\n",
        "    [6, 6, 8],\n",
        "    [2, 1, 1]\n",
        "]\n",
        "print(longestIncreasingPath(matrix))\n"
      ],
      "metadata": {
        "colab": {
          "base_uri": "https://localhost:8080/"
        },
        "id": "PwCAlAJ_LDT3",
        "outputId": "34617a90-cbd0-4f40-eff5-f33b296bb1db"
      },
      "execution_count": null,
      "outputs": [
        {
          "output_type": "stream",
          "name": "stdout",
          "text": [
            "4\n"
          ]
        }
      ]
    },
    {
      "cell_type": "code",
      "source": [
        "def numDistinctIslands(grid):\n",
        "    if not grid or not grid[0]:\n",
        "        return 0\n",
        "\n",
        "    m, n = len(grid), len(grid[0])\n",
        "    visited = set()\n",
        "    unique_islands = set()\n",
        "\n",
        "    def dfs(x, y, origin_x, origin_y, shape):\n",
        "        if 0 <= x < m and 0 <= y < n and grid[x][y] == 1 and (x, y) not in visited:\n",
        "            visited.add((x, y))\n",
        "            shape.append((x - origin_x, y - origin_y))\n",
        "\n",
        "            dfs(x + 1, y, origin_x, origin_y, shape)\n",
        "            dfs(x - 1, y, origin_x, origin_y, shape)\n",
        "            dfs(x, y + 1, origin_x, origin_y, shape)\n",
        "            dfs(x, y - 1, origin_x, origin_y, shape)\n",
        "\n",
        "    for i in range(m):\n",
        "        for j in range(n):\n",
        "            if grid[i][j] == 1 and (i, j) not in visited:\n",
        "                shape = []\n",
        "                dfs(i, j, i, j, shape)\n",
        "                unique_islands.add(tuple(shape))\n",
        "\n",
        "    return len(unique_islands)\n",
        "\n",
        "\n",
        "grid = [\n",
        "    [1, 1, 0, 0, 0],\n",
        "    [1, 1, 0, 0, 0],\n",
        "    [0, 0, 0, 1, 1],\n",
        "    [0, 0, 0, 1, 1]\n",
        "]\n",
        "print(numDistinctIslands(grid))\n"
      ],
      "metadata": {
        "colab": {
          "base_uri": "https://localhost:8080/"
        },
        "id": "CDf417JJMg9c",
        "outputId": "7d421ce8-1306-4fcf-c5ff-eaa7763ddf32"
      },
      "execution_count": null,
      "outputs": [
        {
          "output_type": "stream",
          "name": "stdout",
          "text": [
            "1\n"
          ]
        }
      ]
    },
    {
      "cell_type": "code",
      "source": [
        "from collections import defaultdict\n",
        "\n",
        "def criticalConnections(n, connections):\n",
        "    graph = defaultdict(list)\n",
        "    for u, v in connections:\n",
        "        graph[u].append(v)\n",
        "        graph[v].append(u)\n",
        "\n",
        "    discovery_time = [-1] * n\n",
        "    low = [-1] * n\n",
        "    time = 0\n",
        "    result = []\n",
        "\n",
        "    def dfs(node, parent):\n",
        "        nonlocal time\n",
        "        discovery_time[node] = low[node] = time\n",
        "        time += 1\n",
        "\n",
        "        for neighbor in graph[node]:\n",
        "            if neighbor == parent:\n",
        "                continue\n",
        "            if discovery_time[neighbor] == -1:\n",
        "                dfs(neighbor, node)\n",
        "                low[node] = min(low[node], low[neighbor])\n",
        "                if low[neighbor] > discovery_time[node]:\n",
        "                    result.append([node, neighbor])\n",
        "            else:\n",
        "                low[node] = min(low[node], discovery_time[neighbor])\n",
        "\n",
        "    dfs(0, -1)\n",
        "    return result\n",
        "\n",
        "n = 4\n",
        "connections = [[0, 1], [1, 2], [2, 0], [1, 3]]\n",
        "print(criticalConnections(n, connections))"
      ],
      "metadata": {
        "colab": {
          "base_uri": "https://localhost:8080/"
        },
        "id": "-XAcUT4QNLkq",
        "outputId": "15284ba4-3ee1-47d4-9322-15ef65d2f265"
      },
      "execution_count": null,
      "outputs": [
        {
          "output_type": "stream",
          "name": "stdout",
          "text": [
            "[[1, 3]]\n"
          ]
        }
      ]
    },
    {
      "cell_type": "code",
      "source": [
        "import heapq\n",
        "from collections import defaultdict\n",
        "\n",
        "def findCheapestPrice(n, flights, src, dst, k):\n",
        "    graph = defaultdict(list)\n",
        "    for u, v, price in flights:\n",
        "        graph[u].append((v, price))\n",
        "\n",
        "    pq = [(0, src, k + 1)]\n",
        "\n",
        "    while pq:\n",
        "        cost, node, stops = heapq.heappop(pq)\n",
        "        if node == dst:\n",
        "            return cost\n",
        "        if stops > 0:\n",
        "            for neighbor, price in graph[node]:\n",
        "                heapq.heappush(pq, (cost + price, neighbor, stops - 1))\n",
        "\n",
        "    return -1\n",
        "\n",
        "n = 4\n",
        "flights = [[0, 1, 100], [1, 2, 100], [2, 3, 100], [0, 2, 500]]\n",
        "src, dst, k = 0, 3, 1\n",
        "print(findCheapestPrice(n, flights, src, dst, k))\n"
      ],
      "metadata": {
        "colab": {
          "base_uri": "https://localhost:8080/"
        },
        "id": "z-RXTv3VOTba",
        "outputId": "b7736365-5cee-4f3b-f7d5-1b5e5dba67a4"
      },
      "execution_count": null,
      "outputs": [
        {
          "output_type": "stream",
          "name": "stdout",
          "text": [
            "600\n"
          ]
        }
      ]
    },
    {
      "cell_type": "code",
      "source": [
        "import heapq\n",
        "\n",
        "def minPathCost(grid):\n",
        "    m, n = len(grid), len(grid[0])\n",
        "    directions = [(0, 1), (1, 0), (0, -1), (-1, 0)]\n",
        "    pq = [(grid[0][0], 0, 0)]  # (cost, x, y)\n",
        "    cost_map = {(0, 0): grid[0][0]}\n",
        "\n",
        "    while pq:\n",
        "        cost, x, y = heapq.heappop(pq)\n",
        "        if (x, y) == (m - 1, n - 1):\n",
        "            return cost\n",
        "\n",
        "        for dx, dy in directions:\n",
        "            nx, ny = x + dx, y + dy\n",
        "            if 0 <= nx < m and 0 <= ny < n:\n",
        "                new_cost = cost + grid[nx][ny]\n",
        "                if (nx, ny) not in cost_map or new_cost < cost_map[(nx, ny)]:\n",
        "                    cost_map[(nx, ny)] = new_cost\n",
        "                    heapq.heappush(pq, (new_cost, nx, ny))\n",
        "\n",
        "    return -1\n",
        "grid = [\n",
        "    [1, 3, 1],\n",
        "    [1, 5, 1],\n",
        "    [4, 2, 1]\n",
        "]\n",
        "print(minPathCost(grid))\n"
      ],
      "metadata": {
        "colab": {
          "base_uri": "https://localhost:8080/"
        },
        "id": "F_JdWLZZPxzz",
        "outputId": "b0fcb434-486c-4058-b3c9-fd59dfb365fc"
      },
      "execution_count": null,
      "outputs": [
        {
          "output_type": "stream",
          "name": "stdout",
          "text": [
            "7\n"
          ]
        }
      ]
    },
    {
      "cell_type": "code",
      "source": [
        "import heapq\n",
        "from collections import defaultdict\n",
        "def uniformCostSearch(n, edges, start, target):\n",
        "    graph = defaultdict(list)\n",
        "    for u, v, cost in edges:\n",
        "        graph[u].append((v, cost))\n",
        "        graph[v].append((u, cost))\n",
        "    pq = [(0, start)]\n",
        "    visited = set()\n",
        "    while pq:\n",
        "        cost, node = heapq.heappop(pq)\n",
        "        if node in visited:\n",
        "            continue\n",
        "        visited.add(node)\n",
        "        if node == target:\n",
        "            return cost\n",
        "        for neighbor, edge_cost in graph[node]:\n",
        "            if neighbor not in visited:\n",
        "                heapq.heappush(pq, (cost + edge_cost, neighbor))\n",
        "\n",
        "    return -1\n",
        "nodes = 5\n",
        "edges = [(0, 1, 10), (1, 2, 20), (2, 3, 30), (3, 4, 40), (0, 4, 100)]\n",
        "start, target = 0, 4\n",
        "print(uniformCostSearch(nodes, edges, start, target))"
      ],
      "metadata": {
        "colab": {
          "base_uri": "https://localhost:8080/"
        },
        "id": "Ih3fivx7VULM",
        "outputId": "18c52217-e912-42c1-aeab-6d6cbacc6f9d"
      },
      "execution_count": null,
      "outputs": [
        {
          "output_type": "stream",
          "name": "stdout",
          "text": [
            "100\n"
          ]
        }
      ]
    },
    {
      "cell_type": "code",
      "source": [
        "def getMaximumGold(grid):\n",
        "    m, n = len(grid), len(grid[0])\n",
        "    directions = [(-1, 0), (1, 0), (0, -1), (0, 1)]\n",
        "\n",
        "    def dfs(x, y):\n",
        "        if grid[x][y] == 0:\n",
        "            return 0\n",
        "\n",
        "        gold = grid[x][y]\n",
        "\n",
        "        grid[x][y] = 0\n",
        "\n",
        "        max_gold = 0\n",
        "        for dx, dy in directions:\n",
        "            nx, ny = x + dx, y + dy\n",
        "            if 0 <= nx < m and 0 <= ny < n and grid[nx][ny] > 0:\n",
        "                max_gold = max(max_gold, dfs(nx, ny))\n",
        "\n",
        "        grid[x][y] = gold\n",
        "\n",
        "        return gold + max_gold\n",
        "\n",
        "    max_gold = 0\n",
        "    for i in range(m):\n",
        "        for j in range(n):\n",
        "            if grid[i][j] > 0:\n",
        "                max_gold = max(max_gold, dfs(i, j))\n",
        "\n",
        "    return max_gold\n",
        "\n",
        "grid = [\n",
        "    [0,6,0],\n",
        "    [5,8,7],\n",
        "    [0,9,0]\n",
        "]\n",
        "print(getMaximumGold(grid))\n"
      ],
      "metadata": {
        "colab": {
          "base_uri": "https://localhost:8080/"
        },
        "id": "4pqg64pFWrWs",
        "outputId": "95eb118c-7884-4bab-89d6-f87c43a7fbeb"
      },
      "execution_count": null,
      "outputs": [
        {
          "output_type": "stream",
          "name": "stdout",
          "text": [
            "24\n"
          ]
        }
      ]
    },
    {
      "cell_type": "code",
      "source": [
        "import heapq\n",
        "\n",
        "def minimumEffortPath(heights):\n",
        "    m, n = len(heights), len(heights[0])\n",
        "    directions = [(-1, 0), (1, 0), (0, -1), (0, 1)]\n",
        "\n",
        "    effort = [[float('inf')] * n for _ in range(m)]\n",
        "    effort[0][0] = 0\n",
        "\n",
        "\n",
        "    heap = [(0, 0, 0)]\n",
        "\n",
        "    while heap:\n",
        "        current_effort, x, y = heapq.heappop(heap)\n",
        "\n",
        "        if x == m - 1 and y == n - 1:\n",
        "            return current_effort\n",
        "\n",
        "        for dx, dy in directions:\n",
        "            nx, ny = x + dx, y + dy\n",
        "\n",
        "            if 0 <= nx < m and 0 <= ny < n:\n",
        "                new_effort = max(current_effort, abs(heights[x][y] - heights[nx][ny]))\n",
        "\n",
        "\n",
        "                if new_effort < effort[nx][ny]:\n",
        "                    effort[nx][ny] = new_effort\n",
        "                    heapq.heappush(heap, (new_effort, nx, ny))\n",
        "\n",
        "    return -1\n",
        "heights = [\n",
        "    [1,2,2],\n",
        "    [3,8,2],\n",
        "    [5,3,5]\n",
        "]\n",
        "print(minimumEffortPath(heights))\n",
        "\n"
      ],
      "metadata": {
        "colab": {
          "base_uri": "https://localhost:8080/"
        },
        "id": "cbi2JiheXmBt",
        "outputId": "176c094d-e0bd-4819-bf7c-96516d5e5da3"
      },
      "execution_count": null,
      "outputs": [
        {
          "output_type": "stream",
          "name": "stdout",
          "text": [
            "2\n"
          ]
        }
      ]
    },
    {
      "cell_type": "code",
      "source": [
        "from collections import deque\n",
        "\n",
        "def minRotationsToUnlock(start, target, deadends):\n",
        "    dead_set = set(deadends)\n",
        "    if start in dead_set:\n",
        "        return -1\n",
        "\n",
        "    queue = deque([(start, 0)])\n",
        "    visited = set()\n",
        "    visited.add(start)\n",
        "\n",
        "    def get_neighbors(state):\n",
        "        neighbors = []\n",
        "        for i in range(len(state)):\n",
        "            digit = int(state[i])\n",
        "            for move in [-1, 1]:\n",
        "                new_digit = (digit + move) % 10\n",
        "                new_state = state[:i] + str(new_digit) + state[i+1:]\n",
        "                neighbors.append(new_state)\n",
        "        return neighbors\n",
        "\n",
        "    while queue:\n",
        "        state, steps = queue.popleft()\n",
        "        if state == target:\n",
        "            return steps\n",
        "\n",
        "        for neighbor in get_neighbors(state):\n",
        "            if neighbor not in visited and neighbor not in dead_set:\n",
        "                visited.add(neighbor)\n",
        "                queue.append((neighbor, steps + 1))\n",
        "\n",
        "    return -1\n",
        "\n",
        "start = \"0000\"\n",
        "target = \"0202\"\n",
        "deadends = [\"0101\", \"0201\", \"0102\", \"1212\", \"2002\"]\n",
        "print(minRotationsToUnlock(start, target, deadends))\n"
      ],
      "metadata": {
        "colab": {
          "base_uri": "https://localhost:8080/"
        },
        "id": "NDcsF55SaHkL",
        "outputId": "906f916f-988a-4e42-9909-76df4afae5aa"
      },
      "execution_count": null,
      "outputs": [
        {
          "output_type": "stream",
          "name": "stdout",
          "text": [
            "6\n"
          ]
        }
      ]
    }
  ]
}