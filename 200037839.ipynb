{
  "nbformat": 4,
  "nbformat_minor": 0,
  "metadata": {
    "colab": {
      "provenance": [],
      "authorship_tag": "ABX9TyNtCJuNV46UhnN+pLT8MS0p",
      "include_colab_link": true
    },
    "kernelspec": {
      "name": "python3",
      "display_name": "Python 3"
    },
    "language_info": {
      "name": "python"
    }
  },
  "cells": [
    {
      "cell_type": "markdown",
      "metadata": {
        "id": "view-in-github",
        "colab_type": "text"
      },
      "source": [
        "<a href=\"https://colab.research.google.com/github/KarimAshraf04/ASSIGNMENT/blob/main/200037839.ipynb\" target=\"_parent\"><img src=\"https://colab.research.google.com/assets/colab-badge.svg\" alt=\"Open In Colab\"/></a>"
      ]
    },
    {
      "cell_type": "code",
      "execution_count": 1,
      "metadata": {
        "colab": {
          "base_uri": "https://localhost:8080/"
        },
        "id": "mZQe2WCBnNEX",
        "outputId": "142407ce-c195-4df4-91f1-ab07a5b7f781"
      },
      "outputs": [
        {
          "output_type": "stream",
          "name": "stdout",
          "text": [
            "6\n"
          ]
        }
      ],
      "source": [
        "from collections import deque\n",
        "\n",
        "def shortestPath(grid, k):\n",
        "    m, n = len(grid), len(grid[0])\n",
        "    directions = [(0, 1), (1, 0), (0, -1), (-1, 0)]\n",
        "\n",
        "    queue = deque([(0, 0, k, 0)])\n",
        "    visited = set([(0, 0, k)])\n",
        "\n",
        "    while queue:\n",
        "        r, c, remaining_k, steps = queue.popleft()\n",
        "\n",
        "        if r == m - 1 and c == n - 1:\n",
        "            return steps\n",
        "\n",
        "        for dr, dc in directions:\n",
        "            nr, nc = r + dr, c + dc\n",
        "\n",
        "            if 0 <= nr < m and 0 <= nc < n:\n",
        "                new_k = remaining_k - grid[nr][nc]\n",
        "\n",
        "                if new_k >= 0 and (nr, nc, new_k) not in visited:\n",
        "                    visited.add((nr, nc, new_k))\n",
        "                    queue.append((nr, nc, new_k, steps + 1))\n",
        "\n",
        "    return -1\n",
        "\n",
        "grid = [\n",
        "    [0, 0, 0],\n",
        "    [1, 1, 0],\n",
        "    [0, 0, 0],\n",
        "    [0, 1, 1],\n",
        "    [0, 0, 0]\n",
        "]\n",
        "k = 1\n",
        "print(shortestPath(grid, k))\n",
        "\n"
      ]
    },
    {
      "cell_type": "code",
      "source": [
        "class TrieNode:\n",
        "    def __init__(self):\n",
        "        self.children = {}\n",
        "        self.word = None\n",
        "\n",
        "class Trie:\n",
        "    def __init__(self):\n",
        "        self.root = TrieNode()\n",
        "\n",
        "    def insert(self, word):\n",
        "        node = self.root\n",
        "        for char in word:\n",
        "            if char not in node.children:\n",
        "                node.children[char] = TrieNode()\n",
        "            node = node.children[char]\n",
        "        node.word = word\n",
        "\n",
        "def findWords(board, words):\n",
        "    def dfs(node, x, y):\n",
        "        char = board[x][y]\n",
        "        if char not in node.children:\n",
        "            return\n",
        "\n",
        "        node = node.children[char]\n",
        "        if node.word:\n",
        "            found_words.add(node.word)\n",
        "            node.word = None\n",
        "\n",
        "        board[x][y] = \"#\"\n",
        "\n",
        "        for dx, dy in directions:\n",
        "            nx, ny = x + dx, y + dy\n",
        "            if 0 <= nx < m and 0 <= ny < n and board[nx][ny] in node.children:\n",
        "                dfs(node, nx, ny)\n",
        "\n",
        "        board[x][y] = char\n",
        "\n",
        "    trie = Trie()\n",
        "    for word in words:\n",
        "        trie.insert(word)\n",
        "\n",
        "    m, n = len(board), len(board[0])\n",
        "    found_words = set()\n",
        "    directions = [(-1, 0), (1, 0), (0, -1), (0, 1)]\n",
        "\n",
        "    for i in range(m):\n",
        "        for j in range(n):\n",
        "            dfs(trie.root, i, j)\n",
        "\n",
        "    return list(found_words)\n",
        "\n",
        "board = [\n",
        "    [\"o\", \"a\", \"b\", \"n\"],\n",
        "    [\"o\", \"t\", \"a\", \"e\"],\n",
        "    [\"a\", \"h\", \"k\", \"r\"],\n",
        "    [\"a\", \"f\", \"l\", \"v\"]\n",
        "]\n",
        "words = [\"oath\", \"oak\", \"bat\", \"ate\", \"flank\"]\n",
        "print(findWords(board, words))\n"
      ],
      "metadata": {
        "id": "bm0w7XgMJMeH",
        "colab": {
          "base_uri": "https://localhost:8080/"
        },
        "outputId": "69653a31-0fe9-443f-9569-6e439de729c8"
      },
      "execution_count": null,
      "outputs": [
        {
          "output_type": "stream",
          "name": "stdout",
          "text": [
            "['oath', 'bat']\n"
          ]
        }
      ]
    },
    {
      "cell_type": "code",
      "source": [
        "import heapq\n",
        "from collections import defaultdict\n",
        "\n",
        "def findCheapestPrice(n, flights, src, dst, k):\n",
        "    graph = defaultdict(list)\n",
        "    for u, v, price in flights:\n",
        "        graph[u].append((v, price))\n",
        "\n",
        "    pq = [(0, src, k + 1)]\n",
        "\n",
        "    while pq:\n",
        "        cost, node, stops = heapq.heappop(pq)\n",
        "        if node == dst:\n",
        "            return cost\n",
        "        if stops > 0:\n",
        "            for neighbor, price in graph[node]:\n",
        "                heapq.heappush(pq, (cost + price, neighbor, stops - 1))\n",
        "\n",
        "    return -1\n",
        "\n",
        "n = 4\n",
        "flights = [[0, 1, 100], [1, 2, 100], [2, 3, 100], [0, 2, 500]]\n",
        "src, dst, k = 0, 3, 1\n",
        "print(findCheapestPrice(n, flights, src, dst, k))\n"
      ],
      "metadata": {
        "colab": {
          "base_uri": "https://localhost:8080/"
        },
        "id": "z-RXTv3VOTba",
        "outputId": "b7736365-5cee-4f3b-f7d5-1b5e5dba67a4"
      },
      "execution_count": null,
      "outputs": [
        {
          "output_type": "stream",
          "name": "stdout",
          "text": [
            "600\n"
          ]
        }
      ]
    }
  ]
}